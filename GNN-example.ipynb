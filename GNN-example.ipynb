{
 "cells": [
  {
   "cell_type": "code",
   "execution_count": 22,
   "metadata": {},
   "outputs": [],
   "source": [
    "import dgl\n",
    "import torch\n",
    "import numpy as np\n",
    "import matplotlib.pyplot as plt\n",
    "import tqdm"
   ]
  },
  {
   "cell_type": "code",
   "execution_count": 23,
   "metadata": {},
   "outputs": [],
   "source": [
    "networks = torch.nn.ModuleList([\n",
    "    dgl.nn.RelGraphConv(in_feat=4, out_feat=4, num_rels=4) for _ in range(4)\n",
    "])\n",
    "scoring = torch.nn.Linear(4, 1)\n",
    "models = torch.nn.ModuleList([networks, scoring])\n",
    "h0 = torch.randn((3, 4))\n",
    "optimizer = torch.optim.Adam(models.parameters(), lr=1e-3)"
   ]
  },
  {
   "cell_type": "code",
   "execution_count": 24,
   "metadata": {},
   "outputs": [],
   "source": [
    "g = dgl.graph((\n",
    "    [0, 1, 0, 2],\n",
    "    [1, 0, 2, 0]\n",
    "))\n",
    "rel = torch.tensor([0, 1, 2, 3])"
   ]
  },
  {
   "cell_type": "code",
   "execution_count": 25,
   "metadata": {
    "jupyter": {
     "source_hidden": true
    }
   },
   "outputs": [],
   "source": [
    "def get_score():\n",
    "    h = h0\n",
    "    for nn in networks:\n",
    "        h = torch.relu(nn(g, h, rel))\n",
    "    return scoring(h).softmax(dim=0)"
   ]
  },
  {
   "cell_type": "code",
   "execution_count": 26,
   "metadata": {
    "jupyter": {
     "source_hidden": true
    }
   },
   "outputs": [],
   "source": [
    "def get_reward(action):\n",
    "    rewards = [1, 2, 1]\n",
    "    return rewards[action]"
   ]
  },
  {
   "cell_type": "code",
   "execution_count": 31,
   "metadata": {},
   "outputs": [
    {
     "name": "stderr",
     "output_type": "stream",
     "text": [
      "100%|██████████| 100/100 [00:42<00:00,  2.37it/s]\n"
     ]
    }
   ],
   "source": [
    "probs = []\n",
    "for _ in tqdm.trange(100):\n",
    "    prob = get_score()\n",
    "    probs.append(prob.detach())\n",
    "    action = np.random.choice(range(3), p=prob.detach().numpy().reshape(-1))\n",
    "    reward = get_reward(action)\n",
    "    loss = - reward * prob[action] / prob[action].detach()\n",
    "    optimizer.zero_grad()\n",
    "    loss.backward()\n",
    "    optimizer.step()"
   ]
  },
  {
   "cell_type": "code",
   "execution_count": 32,
   "metadata": {},
   "outputs": [
    {
     "data": {
      "text/plain": [
       "<matplotlib.legend.Legend at 0x7f548c0b2310>"
      ]
     },
     "execution_count": 32,
     "metadata": {},
     "output_type": "execute_result"
    },
    {
     "data": {
      "image/png": "[encoded data removed]",
      "text/plain": [
       "<Figure size 432x288 with 1 Axes>"
      ]
     },
     "metadata": {
      "needs_background": "light"
     },
     "output_type": "display_data"
    }
   ],
   "source": [
    "probs_l = zip(*probs)\n",
    "for i, prob in enumerate(probs_l):\n",
    "    plt.plot(prob, label=i)\n",
    "plt.legend()"
   ]
  },
  {
   "cell_type": "code",
   "execution_count": 47,
   "metadata": {},
   "outputs": [],
   "source": [
    "FEATURE_DIM = 4\n",
    "NODE_TYPES_CNT = 4\n",
    "h0 = torch.randn((NODE_TYPES_CNT, FEATURE_DIM))\n",
    "node_types = torch.tensor([\n",
    "    d[type]\n",
    "for type in [\n",
    "    \"S\",\n",
    "    \"S+1\",\n",
    "    \"S+2\",\n",
    "    \"S\",\n",
    "    \"X\"\n",
    "]])"
   ]
  },
  {
   "cell_type": "code",
   "execution_count": 46,
   "metadata": {},
   "outputs": [],
   "source": [
    "d = dict([(a, b) for b, a in enumerate([\"S\", \"S+1\", \"S+2\", \"S-1\", \"S-2\", \"X\", \"Y\", \"Z\"])])"
   ]
  },
  {
   "cell_type": "code",
   "execution_count": null,
   "metadata": {},
   "outputs": [],
   "source": []
  }
 ],
 "metadata": {
  "kernelspec": {
   "display_name": "Python 3",
   "language": "python",
   "name": "python3"
  },
  "language_info": {
   "codemirror_mode": {
    "name": "ipython",
    "version": 3
   },
   "file_extension": ".py",
   "mimetype": "text/x-python",
   "name": "python",
   "nbconvert_exporter": "python",
   "pygments_lexer": "ipython3",
   "version": "3.8.5"
  }
 },
 "nbformat": 4,
 "nbformat_minor": 4
}
